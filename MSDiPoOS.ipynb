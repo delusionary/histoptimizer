{
 "cells": [
  {
   "cell_type": "markdown",
   "source": [
    "## Minimum Variance Linear Partition Problem\n",
    "\n",
    "<b>Problem</b>: Integer Partition to minimize σ<sup>2</sup> without Rearrangement\n",
    "\n",
    "<b>Input</b>: An arrangement S of nonnegative numbers {s<sub>1</sub>, . . . , s<sub>n</sub>} and an integer k.\n",
    "\n",
    "<b>Output</b>: Partition S into k ranges to minimize the variance (σ<sup>2</sup>), without reordering any of the numbers.\n",
    "\n",
    "Old:\n",
    "Given an ordered series of items of various sizes, insert *n* dividers between items to create <i>n</i>+1 buckets in\n",
    "such a way that the variance (σ<sup>2</sup>) of the sum of the sizes of the items in each bucket is as low as possible.\n",
    "\n",
    "## Let:\n",
    "\n",
    " * *k* be a number of partitions\n",
    "\n",
    " * <i>j</i> be the number of dividers necessary to create *k* partitions, <i>k</i> - 1\n",
    "\n",
    " * *n* be a number of items\n",
    "\n",
    " * *s<sub>1..n</sub>* be an ordered series of item sizes. Note that this is 1-based.\n",
    "\n",
    " * *c<sub>1..k</sub>* be a vector giving <i>k</i> divider locations that come *after* the corresponding (1-based) item locations in *z*,\n",
    "given in increasing order s.t. c<sub>i-1</sub> < c<sub>i</sub> < c<sub>i+1</sub> for 2 < i < <i>k</i>-1, and c<sub>k-1</sub> < c<sub>k</sub>\n",
    "\n",
    " * *c<sub>0</sub> = 0* and *c<sub>k+1</sub> = n*. These locations represent the implicit dividers placed at the beginning and end\n",
    "of the series of items.\n",
    "\n",
    " * *mean* be the sum of the sizes in *s* divided by <i>k</i>\n",
    "\n",
    " * *p<sub>1..n</sub>* be the prefix sums of items in <i>s</i>,\n",
    "   such that *p<sub>0</sub>* = 0 and *p<sub>i</sub>* = *p<sub>i-1</sub>* + *s<sub>i</sub>* for 1 < i < n.\n",
    "\n",
    " * *size(a,b)* be a function giving the sum of the item sizes in a bucket containing items from *s* on a half-closed interval\n",
    "(containing items *s<sub>a</sub>* to *s<sub>b-1</sub>*). This can be quickly given by *p<sub>b</sub>* - *p<sub>a-1</sub>*\n",
    "\n",
    " * *variance(a,b)* be the square of the difference between *size(*a,b)* and the value *mean*. This measures\n",
    "for a bucket on the half-closed interval the square of the difference of the bucket size and the *overall* mean bucket size.\n",
    "It can be computed from s: *variance(a,b)* = (*size(*a,b)* - *mean*)<sup>2</sup>*\n",
    "\n",
    " * *buckets(c)* be a function giving a vector *b<sub>1..k</sub>* of sums of items in each bucket for a given divider vector *c*:\n",
    "   <i>b</i><sub>1</sub> = <i>size(*1,c<sub>1</sub>)</i>, <i>b</i><sub>2</sub> = *size(*c<sub>1</sub>,c<sub>2</sub>)*, . . . ,\n",
    "   <i>b<sub>k</sub></i> = <i>size(*c<sub>j</sub>,n)</i>\n",
    "\n",
    "## Problem\n",
    "\n",
    "Find a vector c that minimizes\n",
    "\n",
    " min σ<sup>2</sup>(<i>b</i>(<i>c</i>)) for given <i>s<sub>1</sub></i><i>s<sub>2</sub></i>...<i>s<sub>n</sub></i>\n",
    "\n",
    "Find a vector of divider locations c that minimizes the statistical variance of the sum of the items in each bucket.\n",
    "\n",
    "## Algorithm\n",
    "\n",
    "\n",
    "\n",
    "## Hypothesis:\n",
    "\n",
    "To find the vector of divider locations that minimizes the variance, if we can find the optimal location\n",
    "of the last divider, we will learn the optimal location of the previous divider, and this is true for\n",
    "every divider, such that we can find the vector that optimizes this value recursively.\n",
    "\n",
    "## Proof:\n",
    "\n",
    "1. For 1 <= x <= j, let *<i>cost</i>(c,x)* be the sum of *v* for items the first <i>n</i> divider locations in <i>c</i>,\n",
    "\n",
    "   <i>cost</i>(c,x) = variance(1,c<sub>1</sub>) + variance(c<sub>1</sub>,c<sub>2</sub>) + ... + variance(c<sub>x-1</sub>, c<sub>x</sub>)\n",
    "\n",
    "2. *<i>cost</i>(c,j)* is equal to the variance of the size of the buckets defined by *c*.\n",
    "   By finding *c* that minimizes *<i>cost</i>(c,j)* we can solve the problem.\n",
    "\n",
    "3. If:\n",
    "\n",
    "   <i>cost</i>(c,x)    = variance(1,c<sub>1</sub>) + variance(c<sub>1</sub>,c<sub>2</sub>) + ... + variance(c<sub>x-2</sub>, c<sub>x-1</sub>) + variance(c<sub>x-1</sub>, c<sub>x</sub>)\n",
    "\n",
    "   Then:\n",
    "\n",
    "   <i>cost</i>(c,x-1) = variance(1,c<sub>1</sub>) + variance(c<sub>1</sub>,c<sub>2</sub>) + ... + variance(c<sub>x-2</sub>, c<sub>x-1</sub>)\n",
    "\n",
    "   All terms except the last are shared.\n",
    "\n",
    "4. Substitute for the common terms to obtain a recurrence relation:\n",
    "\n",
    "   For *x* = 1:\n",
    "\n",
    "   <i>cost</i>(c, 1) = <i>variance</i>(1,<i>c<sub>1</sub></i>)\n",
    "\n",
    "   and for 1 < *x* <= *k*\n",
    "\n",
    "   <i>cost</i>(c,x) = <i>cost</i>(c,x-1) + variance(c<sub>x-1</sub> + 1, c<sub>x</sub>)\n",
    "\n",
    "   If we wish to determine the variance for a vector <i>c</i> (*<i>cost</i>(c,j)*), this becomes:\n",
    "\n",
    "   <i>cost</i>(c,j) = <i>cost</i>(c,j-1) + variance(c<sub>j-1</sub> + 1, c<sub>j</sub>)\n",
    "\n",
    "   The increase in variance created by the last divider is not just dependent on the location of the last divider.\n",
    "   The variance is a function of the size of the *buckets*, and the last divider sits between two buckets. For a given\n",
    "   *c<sub>j</sub>*, the size of the last bucket is fixed, as it contains items from *z[c<sub>j</sub>]* to *s<sub>n</sub>*. The next-to-last bucket,\n",
    "   however, contains items from *z[c<sub>j-1</sub>]* to *z[c<sub>j</sub>-1]*, and there are usually many valid values of *c<sub>j-1</sub>* for any\n",
    "   given *c<sub>j</sub>*. In order to minimize the added variance we need to find a *combination* of *c<sub>j-1</sub>* and *c<sub>j</sub>* that\n",
    "   minimizes the overall variance.\n",
    "\n",
    "   A collection of *n* items has *(n-1)* spaces between items in which to place a divider, and at least the first *(j-2)*\n",
    "   locations must contain previous dividers. Therefore there are only *(n-1)-(j-2)* locations we can place the last two\n",
    "   dividers *c<sub>j-1</sub>* and *c<sub>j</sub>*. Therefore there are there are *comb((n-1)-(j-1), 2)* combinations\n",
    "   of divider locations. This is a very manageable number for many uses cases on modern hardware, and by trying all\n",
    "   possible values of c<sub>j - 1</sub> for each feasible value of c<sub>j</sub> we can find the optimal value for both.\n",
    "\n",
    "   Note that in order to find the value of c<sub>j</sub> that minimizes the variance, we have to recursively determine\n",
    "   the value of element c<sub>j-1</sub> that minimizes *<i>cost</i>(c, j - 1)*, *for each possible value of *c<sub>j</sub>**. But this is\n",
    "   a smaller version of the same problem, and does not depend on the value of c<sub>j</sub>!\n",
    "\n",
    "   Minimizing this function requires computing the minimum value of <i>cost</i>(c,j-1), but note that this is a smaller version of the\n",
    "   same problem, and the function does not depend on the value of c<sub>j</sub>! Because the value of *<i>cost</i>(c,j-1)* will be\n",
    "   evaluated multiple times, once for each value of *c<sub>j</sub>*, we can save considerable time by caching the result.\n",
    "\n",
    "   This means that we can minimize variance(c,j) by minimizing variance(c,j-1), variance(c,j-2), ..., variance(c,1) in turn.\n",
    "   We can derive the vector c by recording the values of c<sub>n</sub> and c<sub>n-1</sub> that minimize the variance at each step when\n",
    "   we determine them.\n",
    "\n",
    "   Notes:\n",
    "\n",
    "   The lowest variance partition of S is a list of divider locations, and that list has a last member. We will find the\n",
    "   optimal location for that last member, and in the process discover the optimal locations of each of the previous members.\n",
    "\n",
    "\n",
    "\n",
    "Will finding the value that minimies variance(c, n-1)\n",
    "\n",
    "Example:\n",
    "\n",
    "Consider s = [7, 41, 97, 53, 67, 24]\n",
    "and j = 2\n",
    "\n",
    "Then p = [0, 7, 41, 138, 191, 258, 282, 0]\n",
    "\n",
    "\n",
    "\n"
   ],
   "metadata": {
    "collapsed": false
   }
  },
  {
   "cell_type": "code",
   "source": [
    "import numpy as np\n",
    "\n",
    "#items = [7, 41, 97, 53, 67, 24]\n",
    "items = [1, 3, 5, 7, 9]\n",
    "num_items = len(items)\n",
    "num_dividers = 2\n",
    "num_buckets = num_dividers + 1\n",
    "prefix_sum = [0] * (num_items + 1)\n",
    "# Add a 0 at the beginning to make item offsets 1-based.\n",
    "items = [0] + items\n",
    "\n",
    "# insert a 0 at the beginning of the partition list so that the first divider\n",
    "# location is at c[1]. Append a \"divider\" at the last location as well.\n",
    "c = [0] + [1, 3] + [num_items]\n",
    "\n",
    "for item in range(1, num_items + 1):\n",
    "    prefix_sum[item] = prefix_sum[item - 1] + items[item]\n",
    "\n",
    "# Last value of the prefix sum is everything added together.\n",
    "mean = prefix_sum[-1] / num_buckets"
   ],
   "metadata": {
    "collapsed": false,
    "pycharm": {
     "name": "#%%\n"
    }
   },
   "execution_count": 57,
   "outputs": []
  },
  {
   "cell_type": "code",
   "execution_count": 69,
   "outputs": [],
   "source": [
    "def s(a,b):\n",
    "    return prefix_sum[b] - prefix_sum[a-1]\n",
    "\n",
    "# Variance is the square of the difference between the mean of the sum\n",
    "def v(a,b):\n",
    "    (s(a,b) - mean)**2\n",
    "\n",
    "def bucket_sums(c, n):\n",
    "    \"\"\"\n",
    "    Assumes c has a 0 prepended, divider locations one-based.\n",
    "    \"\"\"\n",
    "    sums = [0]*(n+1)\n",
    "    for i in range(0, n+1):\n",
    "        sums[i] = s(c[i] + 1, c[i+1])\n",
    "    return sums\n",
    "\n",
    "def variance(c, n):\n",
    "    if n == 1:\n",
    "        return v(0, c[1])\n",
    "    else:\n",
    "        return variance(c, n-1) + v(c[n-1], c[n])"
   ],
   "metadata": {
    "collapsed": false,
    "pycharm": {
     "name": "#%%\n"
    }
   }
  },
  {
   "cell_type": "code",
   "execution_count": 68,
   "outputs": [
    {
     "data": {
      "text/plain": "[1, 8]"
     },
     "execution_count": 68,
     "metadata": {},
     "output_type": "execute_result"
    }
   ],
   "source": [
    "bucket_sums(c, 1)"
   ],
   "metadata": {
    "collapsed": false,
    "pycharm": {
     "name": "#%%\n"
    }
   }
  },
  {
   "cell_type": "code",
   "source": [
    "mean\n",
    "variance(c,2)\n"
   ],
   "metadata": {
    "collapsed": false,
    "pycharm": {
     "name": "#%%\n"
    }
   },
   "execution_count": 70,
   "outputs": [
    {
     "ename": "TypeError",
     "evalue": "unsupported operand type(s) for +: 'NoneType' and 'NoneType'",
     "output_type": "error",
     "traceback": [
      "\u001B[1;31m---------------------------------------------------------------------------\u001B[0m",
      "\u001B[1;31mTypeError\u001B[0m                                 Traceback (most recent call last)",
      "\u001B[1;32m<ipython-input-70-dab29af874fe>\u001B[0m in \u001B[0;36m<module>\u001B[1;34m\u001B[0m\n\u001B[0;32m      1\u001B[0m \u001B[0mmean\u001B[0m\u001B[1;33m\u001B[0m\u001B[1;33m\u001B[0m\u001B[0m\n\u001B[1;32m----> 2\u001B[1;33m \u001B[0mvariance\u001B[0m\u001B[1;33m(\u001B[0m\u001B[0mc\u001B[0m\u001B[1;33m,\u001B[0m\u001B[1;36m2\u001B[0m\u001B[1;33m)\u001B[0m\u001B[1;33m\u001B[0m\u001B[1;33m\u001B[0m\u001B[0m\n\u001B[0m\u001B[0;32m      3\u001B[0m \u001B[1;33m\u001B[0m\u001B[0m\n",
      "\u001B[1;32m<ipython-input-69-ba575f782135>\u001B[0m in \u001B[0;36mvariance\u001B[1;34m(c, n)\u001B[0m\n\u001B[0;32m     19\u001B[0m         \u001B[1;32mreturn\u001B[0m \u001B[0mv\u001B[0m\u001B[1;33m(\u001B[0m\u001B[1;36m0\u001B[0m\u001B[1;33m,\u001B[0m \u001B[0mc\u001B[0m\u001B[1;33m[\u001B[0m\u001B[1;36m1\u001B[0m\u001B[1;33m]\u001B[0m\u001B[1;33m)\u001B[0m\u001B[1;33m\u001B[0m\u001B[1;33m\u001B[0m\u001B[0m\n\u001B[0;32m     20\u001B[0m     \u001B[1;32melse\u001B[0m\u001B[1;33m:\u001B[0m\u001B[1;33m\u001B[0m\u001B[1;33m\u001B[0m\u001B[0m\n\u001B[1;32m---> 21\u001B[1;33m         \u001B[1;32mreturn\u001B[0m \u001B[0mvariance\u001B[0m\u001B[1;33m(\u001B[0m\u001B[0mc\u001B[0m\u001B[1;33m,\u001B[0m \u001B[0mn\u001B[0m\u001B[1;33m-\u001B[0m\u001B[1;36m1\u001B[0m\u001B[1;33m)\u001B[0m \u001B[1;33m+\u001B[0m \u001B[0mv\u001B[0m\u001B[1;33m(\u001B[0m\u001B[0mc\u001B[0m\u001B[1;33m[\u001B[0m\u001B[0mn\u001B[0m\u001B[1;33m-\u001B[0m\u001B[1;36m1\u001B[0m\u001B[1;33m]\u001B[0m\u001B[1;33m,\u001B[0m \u001B[0mc\u001B[0m\u001B[1;33m[\u001B[0m\u001B[0mn\u001B[0m\u001B[1;33m]\u001B[0m\u001B[1;33m)\u001B[0m\u001B[1;33m\u001B[0m\u001B[1;33m\u001B[0m\u001B[0m\n\u001B[0m",
      "\u001B[1;31mTypeError\u001B[0m: unsupported operand type(s) for +: 'NoneType' and 'NoneType'"
     ]
    }
   ]
  }
 ],
 "metadata": {
  "kernelspec": {
   "display_name": "Python 3",
   "language": "python",
   "name": "python3"
  },
  "language_info": {
   "codemirror_mode": {
    "name": "ipython",
    "version": 2
   },
   "file_extension": ".py",
   "mimetype": "text/x-python",
   "name": "python",
   "nbconvert_exporter": "python",
   "pygments_lexer": "ipython2",
   "version": "2.7.6"
  }
 },
 "nbformat": 4,
 "nbformat_minor": 0
}